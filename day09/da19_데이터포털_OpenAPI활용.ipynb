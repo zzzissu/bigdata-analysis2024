{
 "cells": [
  {
   "cell_type": "markdown",
   "metadata": {},
   "source": [
    "## 빅데이터 실습\n",
    "\n",
    "### 데이터포털 OpenAPI 활용\n",
    "\n",
    "#### 데이터 수집\n",
    "\n",
    "##### OpenAPI\n",
    "- 한국관광공사 관광빅데이터 정보서비스 GW\n",
    "    - 기존 URL : http://apis.data.go.kr/B551011/DataLabService/metcoRegnVisitrDDList?\n",
    "        - https로 서비스 요청하면 ssl관련 오류발생\n",
    "    - 서비스키 : 7nLHBy133gEayX0XUm36xxgovALOuZFRciiBQqKgzYuQ%2B%2BHXh%2B4D6zIXRXeMJny%2BuVGbRMLWAOZipodkafh%2BtQ%3D%3D\n",
    "    - 파라미터(?뒤 기준) : \n",
    "        - serviceKey = 본인서비스키\n",
    "        - numOfRows = 한페이지 나타낼 결과수(10 기본 60으로 하면 하루치 전부 가져올 수 있음)\n",
    "        - pageNo = 시작 페이지 번호(1)\n",
    "        - MobileOS = IOS, AND, WIN, ETC(기타)\n",
    "        - MobileApp=AppTest(테스트)\n",
    "        - startYmd = 시작일자\n",
    "        - endYmd = 종료일자"
   ]
  },
  {
   "cell_type": "code",
   "execution_count": 1,
   "metadata": {},
   "outputs": [],
   "source": [
    "## 필요 라이브러리 사용등록\n",
    "from urllib.request import Request, urlopen\n",
    "from datetime import datetime\n",
    "import ssl\n",
    "import requests\n",
    "import json\n",
    "import pandas as pd\n",
    "import xmltodict"
   ]
  },
  {
   "cell_type": "markdown",
   "metadata": {},
   "source": [
    "##### 추가모듈\n",
    "- XML을 딕셔너리로 한번 바꿔주는 모듈\n",
    "- xmltodict\n",
    "\n",
    "!pip install xmltodict"
   ]
  },
  {
   "cell_type": "code",
   "execution_count": 2,
   "metadata": {},
   "outputs": [
    {
     "name": "stdout",
     "output_type": "stream",
     "text": [
      "Requirement already satisfied: xmltodict in c:\\dev\\python312\\lib\\site-packages (0.13.0)\n"
     ]
    }
   ],
   "source": [
    "!pip install xmltodict"
   ]
  },
  {
   "cell_type": "code",
   "execution_count": 3,
   "metadata": {},
   "outputs": [],
   "source": [
    "def getRequestUrl(url):\n",
    "    req = Request(url)\n",
    "    try:\n",
    "        res = urlopen(req)\n",
    "        if res.getcode() == 200:    # 웹 URL 요청결과 OK\n",
    "           print(f'[{datetime.now()}] url 요청 성공!') \n",
    "           return res.read().decode('utf-8')    # 웹으로 전달될때는 URL, utf-8로 인코딩, 돌려받을때는 utf-8 디코딩\n",
    "    except Exception as e:\n",
    "        print(f'[{datetime.now()}]getRequestUrl() 호출 예외 :{e}')\n",
    "        return None"
   ]
  },
  {
   "cell_type": "code",
   "execution_count": 4,
   "metadata": {},
   "outputs": [],
   "source": [
    "# 파라미터를 변경하면서 OpenAPI 요청하고 결과데이터 리턴함수\n",
    "# 만약 시작일자, 종료일자가 다르면 파라미터 두개 받아야함\n",
    "serviceKey = r'7nLHBy133gEayX0XUm36xxgovALOuZFRciiBQqKgzYuQ%2B%2BHXh%2B4D6zIXRXeMJny%2BuVGbRMLWAOZipodkafh%2BtQ%3D%3D'\n",
    "def getTouristDataService(yyyymmdd):\n",
    "    serviceUrl = 'http://apis.data.go.kr/B551011/DataLabService/metcoRegnVisitrDDList'\n",
    "    parameters = f'?serviceKey={serviceKey}' + \\\n",
    "                 '&numOfRows=60' + \\\n",
    "                 '&pageNo=1' + \\\n",
    "                 '&MobileOS=ETC' + \\\n",
    "                 '&MobileApp=AppTest' + \\\n",
    "                 f'&startYmd={yyyymmdd}' + \\\n",
    "                 f'&endYmd={yyyymmdd}'\n",
    "                 \n",
    "    url = serviceUrl + parameters\n",
    "    print(url)\n",
    "    # ssl._create_default_https_context = ssl._create_unverified_context\n",
    "    response = getRequestUrl(url)   # OpenAPI URL로 실제요청\n",
    "    \n",
    "    if response == None:\n",
    "        return None\n",
    "    else:\n",
    "        return response"
   ]
  },
  {
   "cell_type": "code",
   "execution_count": 5,
   "metadata": {},
   "outputs": [],
   "source": [
    "# 실행테스트\n",
    "# getTouristDataService('20231201')"
   ]
  },
  {
   "cell_type": "code",
   "execution_count": 6,
   "metadata": {},
   "outputs": [],
   "source": [
    "# 서비스키\n",
    "serviceKey = r'7nLHBy133gEayX0XUm36xxgovALOuZFRciiBQqKgzYuQ%2B%2BHXh%2B4D6zIXRXeMJny%2BuVGbRMLWAOZipodkafh%2BtQ%3D%3D'"
   ]
  },
  {
   "cell_type": "code",
   "execution_count": 7,
   "metadata": {},
   "outputs": [],
   "source": [
    "# 기준날짜\n",
    "ymd = '20231201'"
   ]
  },
  {
   "cell_type": "code",
   "execution_count": 8,
   "metadata": {},
   "outputs": [
    {
     "data": {
      "text/plain": [
       "'http://apis.data.go.kr/B551011/DataLabService/metcoRegnVisitrDDList?numOfRows=10&pageNo=1&MobileOS=ETC&MobileApp=AppTest&serviceKey=7nLHBy133gEayX0XUm36xxgovALOuZFRciiBQqKgzYuQ%2B%2BHXh%2B4D6zIXRXeMJny%2BuVGbRMLWAOZipodkafh%2BtQ%3D%3D&startYmd=20231201&endYmd=20231201'"
      ]
     },
     "execution_count": 8,
     "metadata": {},
     "output_type": "execute_result"
    }
   ],
   "source": [
    "baseUrl = 'http://apis.data.go.kr/B551011/DataLabService/metcoRegnVisitrDDList?'\n",
    "parameter = 'numOfRows=10&pageNo=1&MobileOS=ETC&MobileApp=AppTest&' +\\\n",
    "            f'serviceKey={serviceKey}&startYmd={ymd}&endYmd={ymd}'\n",
    "totalUrl = baseUrl + parameter\n",
    "totalUrl"
   ]
  },
  {
   "cell_type": "code",
   "execution_count": 9,
   "metadata": {},
   "outputs": [
    {
     "data": {
      "text/plain": [
       "'<?xml version=\"1.0\" encoding=\"UTF-8\" standalone=\"yes\"?><response><header>\\n  <resultCode>0000</resultCode>\\n  <resultMsg>OK</resultMsg>\\n</header><body><items>\\n  <item>\\n    <areaCode>11</areaCode>\\n    <areaNm>서울특별시</areaNm>\\n    <daywkDivCd>5</daywkDivCd>\\n    <daywkDivNm>금요일</daywkDivNm>\\n    <touDivCd>1</touDivCd>\\n    <touDivNm>현지인(a)</touDivNm>\\n    <touNum>4603042.5</touNum>\\n    <baseYmd>20231201</baseYmd>\\n  </item>\\n  <item>\\n    <areaCode>11</areaCode>\\n    <areaNm>서울특별시</areaNm>\\n    <daywkDivCd>5</daywkDivCd>\\n    <daywkDivNm>금요일</daywkDivNm>\\n    <touDivCd>2</touDivCd>\\n    <touDivNm>외지인(b)</touDivNm>\\n    <touNum>1448384.0</touNum>\\n    <baseYmd>20231201</baseYmd>\\n  </item>\\n  <item>\\n    <areaCode>11</areaCode>\\n    <areaNm>서울특별시</areaNm>\\n    <daywkDivCd>5</daywkDivCd>\\n    <daywkDivNm>금요일</daywkDivNm>\\n    <touDivCd>3</touDivCd>\\n    <touDivNm>외국인(c)</touDivNm>\\n    <touNum>30583.54999999999</touNum>\\n    <baseYmd>20231201</baseYmd>\\n  </item>\\n  <item>\\n    <areaCode>26</areaCode>\\n    <areaNm>부산광역시</areaNm>\\n    <daywkDivCd>5</daywkDivCd>\\n    <daywkDivNm>금요일</daywkDivNm>\\n    <touDivCd>1</touDivCd>\\n    <touDivNm>현지인(a)</touDivNm>\\n    <touNum>1583729.0</touNum>\\n    <baseYmd>20231201</baseYmd>\\n  </item>\\n  <item>\\n    <areaCode>26</areaCode>\\n    <areaNm>부산광역시</areaNm>\\n    <daywkDivCd>5</daywkDivCd>\\n    <daywkDivNm>금요일</daywkDivNm>\\n    <touDivCd>2</touDivCd>\\n    <touDivNm>외지인(b)</touDivNm>\\n    <touNum>323697.5</touNum>\\n    <baseYmd>20231201</baseYmd>\\n  </item>\\n  <item>\\n    <areaCode>26</areaCode>\\n    <areaNm>부산광역시</areaNm>\\n    <daywkDivCd>5</daywkDivCd>\\n    <daywkDivNm>금요일</daywkDivNm>\\n    <touDivCd>3</touDivCd>\\n    <touDivNm>외국인(c)</touDivNm>\\n    <touNum>8219.360000000004</touNum>\\n    <baseYmd>20231201</baseYmd>\\n  </item>\\n  <item>\\n    <areaCode>27</areaCode>\\n    <areaNm>대구광역시</areaNm>\\n    <daywkDivCd>5</daywkDivCd>\\n    <daywkDivNm>금요일</daywkDivNm>\\n    <touDivCd>1</touDivCd>\\n    <touDivNm>현지인(a)</touDivNm>\\n    <touNum>1206880.5</touNum>\\n    <baseYmd>20231201</baseYmd>\\n  </item>\\n  <item>\\n    <areaCode>27</areaCode>\\n    <areaNm>대구광역시</areaNm>\\n    <daywkDivCd>5</daywkDivCd>\\n    <daywkDivNm>금요일</daywkDivNm>\\n    <touDivCd>2</touDivCd>\\n    <touDivNm>외지인(b)</touDivNm>\\n    <touNum>238301.0</touNum>\\n    <baseYmd>20231201</baseYmd>\\n  </item>\\n  <item>\\n    <areaCode>27</areaCode>\\n    <areaNm>대구광역시</areaNm>\\n    <daywkDivCd>5</daywkDivCd>\\n    <daywkDivNm>금요일</daywkDivNm>\\n    <touDivCd>3</touDivCd>\\n    <touDivNm>외국인(c)</touDivNm>\\n    <touNum>1004.25</touNum>\\n    <baseYmd>20231201</baseYmd>\\n  </item>\\n  <item>\\n    <areaCode>28</areaCode>\\n    <areaNm>인천광역시</areaNm>\\n    <daywkDivCd>5</daywkDivCd>\\n    <daywkDivNm>금요일</daywkDivNm>\\n    <touDivCd>1</touDivCd>\\n    <touDivNm>현지인(a)</touDivNm>\\n    <touNum>1364107.5</touNum>\\n    <baseYmd>20231201</baseYmd>\\n  </item>\\n</items>  <numOfRows>10</numOfRows>\\n  <pageNo>1</pageNo>\\n  <totalCount>51</totalCount>\\n</body></response>'"
      ]
     },
     "execution_count": 9,
     "metadata": {},
     "output_type": "execute_result"
    }
   ],
   "source": [
    "# 실행테스트\n",
    "res = requests.get(totalUrl)\n",
    "res.status_code\n",
    "res.text"
   ]
  },
  {
   "cell_type": "code",
   "execution_count": 10,
   "metadata": {},
   "outputs": [],
   "source": [
    "## openAPI로 넘어온 text(xml타입)\n",
    "## xmltodict.parse() xml문서를 파이썬 dictionary타입 변환\n",
    "## json.dumps() dictionary를 json타입으로 변환\n",
    "dictTemp = xmltodict.parse(res.text)"
   ]
  },
  {
   "cell_type": "code",
   "execution_count": 11,
   "metadata": {},
   "outputs": [
    {
     "data": {
      "text/plain": [
       "[{'areaCode': '11',\n",
       "  'areaNm': '서울특별시',\n",
       "  'daywkDivCd': '5',\n",
       "  'daywkDivNm': '금요일',\n",
       "  'touDivCd': '1',\n",
       "  'touDivNm': '현지인(a)',\n",
       "  'touNum': '4603042.5',\n",
       "  'baseYmd': '20231201'},\n",
       " {'areaCode': '11',\n",
       "  'areaNm': '서울특별시',\n",
       "  'daywkDivCd': '5',\n",
       "  'daywkDivNm': '금요일',\n",
       "  'touDivCd': '2',\n",
       "  'touDivNm': '외지인(b)',\n",
       "  'touNum': '1448384.0',\n",
       "  'baseYmd': '20231201'},\n",
       " {'areaCode': '11',\n",
       "  'areaNm': '서울특별시',\n",
       "  'daywkDivCd': '5',\n",
       "  'daywkDivNm': '금요일',\n",
       "  'touDivCd': '3',\n",
       "  'touDivNm': '외국인(c)',\n",
       "  'touNum': '30583.54999999999',\n",
       "  'baseYmd': '20231201'},\n",
       " {'areaCode': '26',\n",
       "  'areaNm': '부산광역시',\n",
       "  'daywkDivCd': '5',\n",
       "  'daywkDivNm': '금요일',\n",
       "  'touDivCd': '1',\n",
       "  'touDivNm': '현지인(a)',\n",
       "  'touNum': '1583729.0',\n",
       "  'baseYmd': '20231201'},\n",
       " {'areaCode': '26',\n",
       "  'areaNm': '부산광역시',\n",
       "  'daywkDivCd': '5',\n",
       "  'daywkDivNm': '금요일',\n",
       "  'touDivCd': '2',\n",
       "  'touDivNm': '외지인(b)',\n",
       "  'touNum': '323697.5',\n",
       "  'baseYmd': '20231201'},\n",
       " {'areaCode': '26',\n",
       "  'areaNm': '부산광역시',\n",
       "  'daywkDivCd': '5',\n",
       "  'daywkDivNm': '금요일',\n",
       "  'touDivCd': '3',\n",
       "  'touDivNm': '외국인(c)',\n",
       "  'touNum': '8219.360000000004',\n",
       "  'baseYmd': '20231201'},\n",
       " {'areaCode': '27',\n",
       "  'areaNm': '대구광역시',\n",
       "  'daywkDivCd': '5',\n",
       "  'daywkDivNm': '금요일',\n",
       "  'touDivCd': '1',\n",
       "  'touDivNm': '현지인(a)',\n",
       "  'touNum': '1206880.5',\n",
       "  'baseYmd': '20231201'},\n",
       " {'areaCode': '27',\n",
       "  'areaNm': '대구광역시',\n",
       "  'daywkDivCd': '5',\n",
       "  'daywkDivNm': '금요일',\n",
       "  'touDivCd': '2',\n",
       "  'touDivNm': '외지인(b)',\n",
       "  'touNum': '238301.0',\n",
       "  'baseYmd': '20231201'},\n",
       " {'areaCode': '27',\n",
       "  'areaNm': '대구광역시',\n",
       "  'daywkDivCd': '5',\n",
       "  'daywkDivNm': '금요일',\n",
       "  'touDivCd': '3',\n",
       "  'touDivNm': '외국인(c)',\n",
       "  'touNum': '1004.25',\n",
       "  'baseYmd': '20231201'},\n",
       " {'areaCode': '28',\n",
       "  'areaNm': '인천광역시',\n",
       "  'daywkDivCd': '5',\n",
       "  'daywkDivNm': '금요일',\n",
       "  'touDivCd': '1',\n",
       "  'touDivNm': '현지인(a)',\n",
       "  'touNum': '1364107.5',\n",
       "  'baseYmd': '20231201'}]"
      ]
     },
     "execution_count": 11,
     "metadata": {},
     "output_type": "execute_result"
    }
   ],
   "source": [
    "# 딕셔너리의 키를 []에 추가해서 원하는 데이터까지 내려가야 함\n",
    "dictTemp['response']['body']['items']['item']"
   ]
  },
  {
   "cell_type": "code",
   "execution_count": 12,
   "metadata": {},
   "outputs": [
    {
     "data": {
      "text/html": [
       "<div>\n",
       "<style scoped>\n",
       "    .dataframe tbody tr th:only-of-type {\n",
       "        vertical-align: middle;\n",
       "    }\n",
       "\n",
       "    .dataframe tbody tr th {\n",
       "        vertical-align: top;\n",
       "    }\n",
       "\n",
       "    .dataframe thead th {\n",
       "        text-align: right;\n",
       "    }\n",
       "</style>\n",
       "<table border=\"1\" class=\"dataframe\">\n",
       "  <thead>\n",
       "    <tr style=\"text-align: right;\">\n",
       "      <th></th>\n",
       "      <th>areaCode</th>\n",
       "      <th>areaNm</th>\n",
       "      <th>daywkDivCd</th>\n",
       "      <th>daywkDivNm</th>\n",
       "      <th>touDivCd</th>\n",
       "      <th>touDivNm</th>\n",
       "      <th>touNum</th>\n",
       "      <th>baseYmd</th>\n",
       "    </tr>\n",
       "  </thead>\n",
       "  <tbody>\n",
       "    <tr>\n",
       "      <th>0</th>\n",
       "      <td>11</td>\n",
       "      <td>서울특별시</td>\n",
       "      <td>5</td>\n",
       "      <td>금요일</td>\n",
       "      <td>1</td>\n",
       "      <td>현지인(a)</td>\n",
       "      <td>4603042.5</td>\n",
       "      <td>20231201</td>\n",
       "    </tr>\n",
       "    <tr>\n",
       "      <th>1</th>\n",
       "      <td>11</td>\n",
       "      <td>서울특별시</td>\n",
       "      <td>5</td>\n",
       "      <td>금요일</td>\n",
       "      <td>2</td>\n",
       "      <td>외지인(b)</td>\n",
       "      <td>1448384.0</td>\n",
       "      <td>20231201</td>\n",
       "    </tr>\n",
       "    <tr>\n",
       "      <th>2</th>\n",
       "      <td>11</td>\n",
       "      <td>서울특별시</td>\n",
       "      <td>5</td>\n",
       "      <td>금요일</td>\n",
       "      <td>3</td>\n",
       "      <td>외국인(c)</td>\n",
       "      <td>30583.54999999999</td>\n",
       "      <td>20231201</td>\n",
       "    </tr>\n",
       "    <tr>\n",
       "      <th>3</th>\n",
       "      <td>26</td>\n",
       "      <td>부산광역시</td>\n",
       "      <td>5</td>\n",
       "      <td>금요일</td>\n",
       "      <td>1</td>\n",
       "      <td>현지인(a)</td>\n",
       "      <td>1583729.0</td>\n",
       "      <td>20231201</td>\n",
       "    </tr>\n",
       "    <tr>\n",
       "      <th>4</th>\n",
       "      <td>26</td>\n",
       "      <td>부산광역시</td>\n",
       "      <td>5</td>\n",
       "      <td>금요일</td>\n",
       "      <td>2</td>\n",
       "      <td>외지인(b)</td>\n",
       "      <td>323697.5</td>\n",
       "      <td>20231201</td>\n",
       "    </tr>\n",
       "    <tr>\n",
       "      <th>5</th>\n",
       "      <td>26</td>\n",
       "      <td>부산광역시</td>\n",
       "      <td>5</td>\n",
       "      <td>금요일</td>\n",
       "      <td>3</td>\n",
       "      <td>외국인(c)</td>\n",
       "      <td>8219.360000000004</td>\n",
       "      <td>20231201</td>\n",
       "    </tr>\n",
       "    <tr>\n",
       "      <th>6</th>\n",
       "      <td>27</td>\n",
       "      <td>대구광역시</td>\n",
       "      <td>5</td>\n",
       "      <td>금요일</td>\n",
       "      <td>1</td>\n",
       "      <td>현지인(a)</td>\n",
       "      <td>1206880.5</td>\n",
       "      <td>20231201</td>\n",
       "    </tr>\n",
       "    <tr>\n",
       "      <th>7</th>\n",
       "      <td>27</td>\n",
       "      <td>대구광역시</td>\n",
       "      <td>5</td>\n",
       "      <td>금요일</td>\n",
       "      <td>2</td>\n",
       "      <td>외지인(b)</td>\n",
       "      <td>238301.0</td>\n",
       "      <td>20231201</td>\n",
       "    </tr>\n",
       "    <tr>\n",
       "      <th>8</th>\n",
       "      <td>27</td>\n",
       "      <td>대구광역시</td>\n",
       "      <td>5</td>\n",
       "      <td>금요일</td>\n",
       "      <td>3</td>\n",
       "      <td>외국인(c)</td>\n",
       "      <td>1004.25</td>\n",
       "      <td>20231201</td>\n",
       "    </tr>\n",
       "    <tr>\n",
       "      <th>9</th>\n",
       "      <td>28</td>\n",
       "      <td>인천광역시</td>\n",
       "      <td>5</td>\n",
       "      <td>금요일</td>\n",
       "      <td>1</td>\n",
       "      <td>현지인(a)</td>\n",
       "      <td>1364107.5</td>\n",
       "      <td>20231201</td>\n",
       "    </tr>\n",
       "  </tbody>\n",
       "</table>\n",
       "</div>"
      ],
      "text/plain": [
       "  areaCode areaNm daywkDivCd daywkDivNm touDivCd touDivNm             touNum  \\\n",
       "0       11  서울특별시          5        금요일        1   현지인(a)          4603042.5   \n",
       "1       11  서울특별시          5        금요일        2   외지인(b)          1448384.0   \n",
       "2       11  서울특별시          5        금요일        3   외국인(c)  30583.54999999999   \n",
       "3       26  부산광역시          5        금요일        1   현지인(a)          1583729.0   \n",
       "4       26  부산광역시          5        금요일        2   외지인(b)           323697.5   \n",
       "5       26  부산광역시          5        금요일        3   외국인(c)  8219.360000000004   \n",
       "6       27  대구광역시          5        금요일        1   현지인(a)          1206880.5   \n",
       "7       27  대구광역시          5        금요일        2   외지인(b)           238301.0   \n",
       "8       27  대구광역시          5        금요일        3   외국인(c)            1004.25   \n",
       "9       28  인천광역시          5        금요일        1   현지인(a)          1364107.5   \n",
       "\n",
       "    baseYmd  \n",
       "0  20231201  \n",
       "1  20231201  \n",
       "2  20231201  \n",
       "3  20231201  \n",
       "4  20231201  \n",
       "5  20231201  \n",
       "6  20231201  \n",
       "7  20231201  \n",
       "8  20231201  \n",
       "9  20231201  "
      ]
     },
     "execution_count": 12,
     "metadata": {},
     "output_type": "execute_result"
    }
   ],
   "source": [
    "# 필요한 값 추출\n",
    "pd.DataFrame(dictTemp['response']['body']['items']['item'])"
   ]
  },
  {
   "cell_type": "markdown",
   "metadata": {},
   "source": [
    "##### 단일테스트 완료 / 함수 생성\n",
    "- getRequestUrl()\n",
    "- getTouristDataService()\n",
    "- 2023-12-01 ~ 2023-12-31 반복문 처리"
   ]
  },
  {
   "cell_type": "code",
   "execution_count": 13,
   "metadata": {},
   "outputs": [],
   "source": [
    "# 웹으로 OpenAPI url 호출하는 함수\n",
    "def getRequestUrl(url):\n",
    "    try:\n",
    "        res = requests.get(url, verify=False)\n",
    "        if res.status_code == 200:  # 요청결과 OK\n",
    "            return res.text\n",
    "    except Exception as e:\n",
    "        print(f'getRequestURL() 호출 예외 : {e}')\n",
    "        return None"
   ]
  },
  {
   "cell_type": "code",
   "execution_count": 14,
   "metadata": {},
   "outputs": [],
   "source": [
    "# OpenAPI 호출함수\n",
    "def getTouristDataService(ymd):\n",
    "    serviceKey = r'7nLHBy133gEayX0XUm36xxgovALOuZFRciiBQqKgzYuQ%2B%2BHXh%2B4D6zIXRXeMJny%2BuVGbRMLWAOZipodkafh%2BtQ%3D%3D'\n",
    "    baseUrl = 'http://apis.data.go.kr/B551011/DataLabService/metcoRegnVisitrDDList?'\n",
    "    parameter = 'numOfRows=10&pageNo=1&MobileOS=ETC&MobileApp=AppTest&' +\\\n",
    "                f'serviceKey={serviceKey}&startYmd={ymd}&endYmd={ymd}'\n",
    "    result = baseUrl + parameter\n",
    "    result = getRequestUrl(totalUrl)\n",
    "    if result == None:\n",
    "        return None\n",
    "    else:\n",
    "        return result"
   ]
  },
  {
   "cell_type": "code",
   "execution_count": 15,
   "metadata": {},
   "outputs": [],
   "source": [
    "# 실행테스트\n",
    "data = getTouristDataService('20231202')"
   ]
  },
  {
   "cell_type": "code",
   "execution_count": 16,
   "metadata": {},
   "outputs": [
    {
     "data": {
      "text/plain": [
       "[{'areaCode': '11',\n",
       "  'areaNm': '서울특별시',\n",
       "  'daywkDivCd': '5',\n",
       "  'daywkDivNm': '금요일',\n",
       "  'touDivCd': '1',\n",
       "  'touDivNm': '현지인(a)',\n",
       "  'touNum': '4603042.5',\n",
       "  'baseYmd': '20231201'},\n",
       " {'areaCode': '11',\n",
       "  'areaNm': '서울특별시',\n",
       "  'daywkDivCd': '5',\n",
       "  'daywkDivNm': '금요일',\n",
       "  'touDivCd': '2',\n",
       "  'touDivNm': '외지인(b)',\n",
       "  'touNum': '1448384.0',\n",
       "  'baseYmd': '20231201'},\n",
       " {'areaCode': '11',\n",
       "  'areaNm': '서울특별시',\n",
       "  'daywkDivCd': '5',\n",
       "  'daywkDivNm': '금요일',\n",
       "  'touDivCd': '3',\n",
       "  'touDivNm': '외국인(c)',\n",
       "  'touNum': '30583.54999999999',\n",
       "  'baseYmd': '20231201'},\n",
       " {'areaCode': '26',\n",
       "  'areaNm': '부산광역시',\n",
       "  'daywkDivCd': '5',\n",
       "  'daywkDivNm': '금요일',\n",
       "  'touDivCd': '1',\n",
       "  'touDivNm': '현지인(a)',\n",
       "  'touNum': '1583729.0',\n",
       "  'baseYmd': '20231201'},\n",
       " {'areaCode': '26',\n",
       "  'areaNm': '부산광역시',\n",
       "  'daywkDivCd': '5',\n",
       "  'daywkDivNm': '금요일',\n",
       "  'touDivCd': '2',\n",
       "  'touDivNm': '외지인(b)',\n",
       "  'touNum': '323697.5',\n",
       "  'baseYmd': '20231201'},\n",
       " {'areaCode': '26',\n",
       "  'areaNm': '부산광역시',\n",
       "  'daywkDivCd': '5',\n",
       "  'daywkDivNm': '금요일',\n",
       "  'touDivCd': '3',\n",
       "  'touDivNm': '외국인(c)',\n",
       "  'touNum': '8219.360000000004',\n",
       "  'baseYmd': '20231201'},\n",
       " {'areaCode': '27',\n",
       "  'areaNm': '대구광역시',\n",
       "  'daywkDivCd': '5',\n",
       "  'daywkDivNm': '금요일',\n",
       "  'touDivCd': '1',\n",
       "  'touDivNm': '현지인(a)',\n",
       "  'touNum': '1206880.5',\n",
       "  'baseYmd': '20231201'},\n",
       " {'areaCode': '27',\n",
       "  'areaNm': '대구광역시',\n",
       "  'daywkDivCd': '5',\n",
       "  'daywkDivNm': '금요일',\n",
       "  'touDivCd': '2',\n",
       "  'touDivNm': '외지인(b)',\n",
       "  'touNum': '238301.0',\n",
       "  'baseYmd': '20231201'},\n",
       " {'areaCode': '27',\n",
       "  'areaNm': '대구광역시',\n",
       "  'daywkDivCd': '5',\n",
       "  'daywkDivNm': '금요일',\n",
       "  'touDivCd': '3',\n",
       "  'touDivNm': '외국인(c)',\n",
       "  'touNum': '1004.25',\n",
       "  'baseYmd': '20231201'},\n",
       " {'areaCode': '28',\n",
       "  'areaNm': '인천광역시',\n",
       "  'daywkDivCd': '5',\n",
       "  'daywkDivNm': '금요일',\n",
       "  'touDivCd': '1',\n",
       "  'touDivNm': '현지인(a)',\n",
       "  'touNum': '1364107.5',\n",
       "  'baseYmd': '20231201'}]"
      ]
     },
     "execution_count": 16,
     "metadata": {},
     "output_type": "execute_result"
    }
   ],
   "source": [
    "# xml을 딕셔너리로 형변환후 필요한 데이터까지만 추출\n",
    "xmltodict.parse(data)['response']['body']['items']['item']"
   ]
  },
  {
   "cell_type": "code",
   "execution_count": 17,
   "metadata": {},
   "outputs": [],
   "source": [
    "from tqdm import tqdm\n",
    "import time"
   ]
  },
  {
   "cell_type": "code",
   "execution_count": 18,
   "metadata": {},
   "outputs": [
    {
     "name": "stderr",
     "output_type": "stream",
     "text": [
      "  0%|          | 0/31 [00:00<?, ?it/s]"
     ]
    },
    {
     "name": "stderr",
     "output_type": "stream",
     "text": [
      "100%|██████████| 31/31 [01:03<00:00,  2.06s/it]\n"
     ]
    }
   ],
   "source": [
    "## 반복문으로 처리\n",
    "touristDatas = []\n",
    "year = 2023\n",
    "month = 12\n",
    "# totalList = []\n",
    "for day in tqdm(range(1, 32)):\n",
    "    reqYmd = f'{year}{month}{day:02d}'\n",
    "    data = getTouristDataService(reqYmd)\n",
    "    if xmltodict.parse(data)['response']['body']['items'] == None:  # 해당날짜에 데이터가 없을 수 있음\n",
    "        resList = []\n",
    "    else:\n",
    "        resList = xmltodict.parse(data)['response']['body']['items']['item']\n",
    "        \n",
    "    touristDatas = touristDatas + resList\n",
    "    "
   ]
  },
  {
   "cell_type": "code",
   "execution_count": 19,
   "metadata": {},
   "outputs": [
    {
     "data": {
      "text/plain": [
       "310"
      ]
     },
     "execution_count": 19,
     "metadata": {},
     "output_type": "execute_result"
    }
   ],
   "source": [
    "len(touristDatas)"
   ]
  },
  {
   "cell_type": "code",
   "execution_count": 20,
   "metadata": {},
   "outputs": [],
   "source": [
    "dfTourist = pd.DataFrame(touristDatas)"
   ]
  },
  {
   "cell_type": "code",
   "execution_count": 21,
   "metadata": {},
   "outputs": [
    {
     "data": {
      "text/html": [
       "<div>\n",
       "<style scoped>\n",
       "    .dataframe tbody tr th:only-of-type {\n",
       "        vertical-align: middle;\n",
       "    }\n",
       "\n",
       "    .dataframe tbody tr th {\n",
       "        vertical-align: top;\n",
       "    }\n",
       "\n",
       "    .dataframe thead th {\n",
       "        text-align: right;\n",
       "    }\n",
       "</style>\n",
       "<table border=\"1\" class=\"dataframe\">\n",
       "  <thead>\n",
       "    <tr style=\"text-align: right;\">\n",
       "      <th></th>\n",
       "      <th>areaCode</th>\n",
       "      <th>areaNm</th>\n",
       "      <th>daywkDivCd</th>\n",
       "      <th>daywkDivNm</th>\n",
       "      <th>touDivCd</th>\n",
       "      <th>touDivNm</th>\n",
       "      <th>touNum</th>\n",
       "      <th>baseYmd</th>\n",
       "    </tr>\n",
       "  </thead>\n",
       "  <tbody>\n",
       "    <tr>\n",
       "      <th>305</th>\n",
       "      <td>26</td>\n",
       "      <td>부산광역시</td>\n",
       "      <td>5</td>\n",
       "      <td>금요일</td>\n",
       "      <td>3</td>\n",
       "      <td>외국인(c)</td>\n",
       "      <td>8219.360000000004</td>\n",
       "      <td>20231201</td>\n",
       "    </tr>\n",
       "    <tr>\n",
       "      <th>306</th>\n",
       "      <td>27</td>\n",
       "      <td>대구광역시</td>\n",
       "      <td>5</td>\n",
       "      <td>금요일</td>\n",
       "      <td>1</td>\n",
       "      <td>현지인(a)</td>\n",
       "      <td>1206880.5</td>\n",
       "      <td>20231201</td>\n",
       "    </tr>\n",
       "    <tr>\n",
       "      <th>307</th>\n",
       "      <td>27</td>\n",
       "      <td>대구광역시</td>\n",
       "      <td>5</td>\n",
       "      <td>금요일</td>\n",
       "      <td>2</td>\n",
       "      <td>외지인(b)</td>\n",
       "      <td>238301.0</td>\n",
       "      <td>20231201</td>\n",
       "    </tr>\n",
       "    <tr>\n",
       "      <th>308</th>\n",
       "      <td>27</td>\n",
       "      <td>대구광역시</td>\n",
       "      <td>5</td>\n",
       "      <td>금요일</td>\n",
       "      <td>3</td>\n",
       "      <td>외국인(c)</td>\n",
       "      <td>1004.25</td>\n",
       "      <td>20231201</td>\n",
       "    </tr>\n",
       "    <tr>\n",
       "      <th>309</th>\n",
       "      <td>28</td>\n",
       "      <td>인천광역시</td>\n",
       "      <td>5</td>\n",
       "      <td>금요일</td>\n",
       "      <td>1</td>\n",
       "      <td>현지인(a)</td>\n",
       "      <td>1364107.5</td>\n",
       "      <td>20231201</td>\n",
       "    </tr>\n",
       "  </tbody>\n",
       "</table>\n",
       "</div>"
      ],
      "text/plain": [
       "    areaCode areaNm daywkDivCd daywkDivNm touDivCd touDivNm  \\\n",
       "305       26  부산광역시          5        금요일        3   외국인(c)   \n",
       "306       27  대구광역시          5        금요일        1   현지인(a)   \n",
       "307       27  대구광역시          5        금요일        2   외지인(b)   \n",
       "308       27  대구광역시          5        금요일        3   외국인(c)   \n",
       "309       28  인천광역시          5        금요일        1   현지인(a)   \n",
       "\n",
       "                touNum   baseYmd  \n",
       "305  8219.360000000004  20231201  \n",
       "306          1206880.5  20231201  \n",
       "307           238301.0  20231201  \n",
       "308            1004.25  20231201  \n",
       "309          1364107.5  20231201  "
      ]
     },
     "execution_count": 21,
     "metadata": {},
     "output_type": "execute_result"
    }
   ],
   "source": [
    "dfTourist.tail()"
   ]
  },
  {
   "cell_type": "code",
   "execution_count": 22,
   "metadata": {},
   "outputs": [
    {
     "name": "stdout",
     "output_type": "stream",
     "text": [
      "<class 'pandas.core.frame.DataFrame'>\n",
      "RangeIndex: 310 entries, 0 to 309\n",
      "Data columns (total 8 columns):\n",
      " #   Column      Non-Null Count  Dtype \n",
      "---  ------      --------------  ----- \n",
      " 0   areaCode    310 non-null    object\n",
      " 1   areaNm      310 non-null    object\n",
      " 2   daywkDivCd  310 non-null    object\n",
      " 3   daywkDivNm  310 non-null    object\n",
      " 4   touDivCd    310 non-null    object\n",
      " 5   touDivNm    310 non-null    object\n",
      " 6   touNum      310 non-null    object\n",
      " 7   baseYmd     310 non-null    object\n",
      "dtypes: object(8)\n",
      "memory usage: 19.5+ KB\n"
     ]
    }
   ],
   "source": [
    "dfTourist.info()"
   ]
  }
 ],
 "metadata": {
  "kernelspec": {
   "display_name": "Python 3",
   "language": "python",
   "name": "python3"
  },
  "language_info": {
   "codemirror_mode": {
    "name": "ipython",
    "version": 3
   },
   "file_extension": ".py",
   "mimetype": "text/x-python",
   "name": "python",
   "nbconvert_exporter": "python",
   "pygments_lexer": "ipython3",
   "version": "3.12.2"
  }
 },
 "nbformat": 4,
 "nbformat_minor": 2
}
